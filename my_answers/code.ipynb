{
 "cells": [
  {
   "cell_type": "markdown",
   "metadata": {},
   "source": [
    "## Task 1 - Explain ciprofloxacin resistance\n",
    "\n",
    "**A common mutation causing ciprofloxacin resistance is found in the *gyrA* and results in the following amino acid change - S91F. Can you confirm if this is present in the sequence data, using the mapped data, and find another resistance determinant?**\n",
    "\n",
    "This relies on using python to identify the gene in the whole genome andconvert DNA sequence to protein sequences, so we can then compare the reference genome with our genome of interest to look for differences."
   ]
  },
  {
   "cell_type": "markdown",
   "metadata": {},
   "source": [
    "### Tip 1\n",
    "\n",
    "Find the location of the *gyrA* gene in the reference file using the NCBI website - https://www.ncbi.nlm.nih.gov/nuccore/NC_011035.1?report=graph - use the find function on the webpage\n",
    "\n",
    "- Coordinates of the *gyrA* gene on [NCBI](https://www.ncbi.nlm.nih.gov/nuccore/NC_011035.1?report=graph): 1051396 to 1054146\n",
    "- In Python: 1051395 to 1054145.\n",
    "\n",
    "![NCBI Screenshot](task1_tip1.png)\n",
    "\n",
    "### Tip 2\n",
    "\n",
    "Use biopython's `SeqIO.read()` function to read in the mapped fasta file `cdt-tutorial/super_gonorrhoea/super_gc_mapped.fa` (https://biopython.org/wiki/SeqIO)\n",
    "\n",
    "**Change path.**"
   ]
  },
  {
   "cell_type": "code",
   "execution_count": 9,
   "metadata": {},
   "outputs": [],
   "source": [
    "from Bio import SeqIO\n",
    "super_gc_mapped_fa = SeqIO.read('../super_gonorrhoea/super_gc_mapped.fa', 'fasta')"
   ]
  },
  {
   "cell_type": "markdown",
   "metadata": {},
   "source": [
    "### Tip 3\n",
    "\n",
    "You can will need to extract the DNA sequence of the gene using it's coordinates within the whole genome (remember that these number from zero in python, but from one on the NCBI website!)"
   ]
  },
  {
   "cell_type": "code",
   "execution_count": 7,
   "metadata": {},
   "outputs": [
    {
     "name": "stdout",
     "output_type": "stream",
     "text": [
      "ID: OxfordGC_R00000419_R00000419\n",
      "Name: OxfordGC_R00000419_R00000419\n",
      "Description: OxfordGC_R00000419_R00000419 Software:/home/compass/PIPELINE/mmmPipeline/compass/g4_basecall.py Version:1.0.1\n",
      "Number of features: 0\n",
      "Seq('ATGACCGACGCAACCATCCGCCACGACCACAAATTCGCCCTCGAAACCCTGCCC...TGA', SingleLetterAlphabet())\n"
     ]
    }
   ],
   "source": [
    "super_gc_GyrA_extract = super_gc_mapped_fa[1051395:1054146]\n",
    "print(super_gc_GyrA_extract)"
   ]
  },
  {
   "cell_type": "markdown",
   "metadata": {},
   "source": [
    "### Tip 4\n",
    "\n",
    "You will need to translate the DNA sequences to a protein sequence, `seq.translate()` in biopython (for *gyrA* the gene is in the same direction as the DNA is numbered, if it were not you would need to generate the reverse complement sequence first), if this works you should end up with a string of amino acids represented as single letters and ending with a stop codon shown as an asterisk."
   ]
  },
  {
   "cell_type": "code",
   "execution_count": 8,
   "metadata": {},
   "outputs": [
    {
     "name": "stdout",
     "output_type": "stream",
     "text": [
      "ID: <unknown id>\n",
      "Name: <unknown name>\n",
      "Description: <unknown description>\n",
      "Number of features: 0\n",
      "Seq('MTDATIRHDHKFALETLPVSLEDEMRKSYLDYAMSVIVGRALPDVRDGLKPVHR...EN*', HasStopCodon(ExtendedIUPACProtein(), '*'))\n"
     ]
    }
   ],
   "source": [
    "super_gc_GyrA = super_gc_GyrA_extract.translate()\n",
    "print(super_gc_GyrA)"
   ]
  },
  {
   "cell_type": "markdown",
   "metadata": {},
   "source": [
    "### Tip 5\n",
    "\n",
    "Compare the amino acid sequences from the reference (`cdt-tutorial/super_gonorrhoea/reference.fa` ) with the sequence from the case using python, does the reference share any mutations or have any different mutations in *gyrA* (hint the reference sequence is also ciprofloxacin resistant)?\n",
    "\n",
    "**Change path.**"
   ]
  },
  {
   "cell_type": "code",
   "execution_count": 19,
   "metadata": {},
   "outputs": [
    {
     "data": {
      "text/plain": [
       "'F'"
      ]
     },
     "execution_count": 19,
     "metadata": {},
     "output_type": "execute_result"
    }
   ],
   "source": [
    "# explore 90-th position\n",
    "super_gc_GyrA[90]"
   ]
  },
  {
   "cell_type": "markdown",
   "metadata": {},
   "source": [
    "We have 'F'on the 91st (90th from 0) place, so we confirm the amino acid change - S91F."
   ]
  },
  {
   "cell_type": "code",
   "execution_count": 27,
   "metadata": {},
   "outputs": [
    {
     "name": "stdout",
     "output_type": "stream",
     "text": [
      "ID: <unknown id>\n",
      "Name: <unknown name>\n",
      "Description: <unknown description>\n",
      "Number of features: 0\n",
      "Seq('MTDATIRHDHKFALETLPVSLEDEMRKSYLDYAMSVIVGRALPDVRDGLKPVHR...EN*', HasStopCodon(ExtendedIUPACProtein(), '*'))\n"
     ]
    }
   ],
   "source": [
    "# reference\n",
    "\n",
    "reference_mapped_fa = SeqIO.read('../super_gonorrhoea/reference.fa', 'fasta')\n",
    "reference_GyrA = reference_gc_mapped_fa[1051395:1054146].translate()\n",
    "print(reference_GyrA)"
   ]
  },
  {
   "cell_type": "code",
   "execution_count": 53,
   "metadata": {},
   "outputs": [
    {
     "name": "stdout",
     "output_type": "stream",
     "text": [
      "1 inconsistent index(es)\n"
     ]
    },
    {
     "data": {
      "text/plain": [
       "(array([95]), array(['A'], dtype='<U1'), array(['G'], dtype='<U1'))"
      ]
     },
     "execution_count": 53,
     "metadata": {},
     "output_type": "execute_result"
    }
   ],
   "source": [
    "import numpy as np\n",
    "\n",
    "inconsistent_idxs = np.array((reference_GyrA)) != np.array((super_gc_GyrA))\n",
    "print(sum(inconsistent_idxs), 'inconsistent index(es)')\n",
    "\n",
    "(np.arange(1, len(reference_GyrA)+1)[inconsistent_idxs],\n",
    "np.array(super_gc_GyrA)[inconsistent_idxs],\n",
    "np.array(reference_GyrA)[inconsistent_idxs])"
   ]
  },
  {
   "cell_type": "code",
   "execution_count": 54,
   "metadata": {},
   "outputs": [
    {
     "name": "stdout",
     "output_type": "stream",
     "text": [
      "95 A G\n"
     ]
    }
   ],
   "source": [
    "for i, (aa1, aa2) in enumerate(zip(super_gc_GyrA, reference_GyrA)):\n",
    "    if aa1!=aa2:\n",
    "        print(i+1, aa1, aa2)"
   ]
  },
  {
   "cell_type": "markdown",
   "metadata": {},
   "source": [
    "## Task 2 - Explain the tetracycline resistance\n",
    "**Tetracycline resistance is conferred by gain of a new gene, *tetM*, carried on a plasmid. Is this gene present?**  \n",
    "To do this we will use a tool called BLAST. This is an optimised algorithm for searching for one or more sequences (the query) within a database of sequences. In this example we will treat the gene we are trying to find as the query and the database will be the contigs that make up the assembly of our genome of interest.\n",
    "\n",
    "I suggest you read the Process and Algorithm sections of the wikipedia article on BLAST before continuing - as this will help with parsing the output generated - https://en.wikipedia.org/wiki/BLAST_(biotechnology)."
   ]
  },
  {
   "cell_type": "code",
   "execution_count": null,
   "metadata": {},
   "outputs": [],
   "source": []
  }
 ],
 "metadata": {
  "kernelspec": {
   "display_name": "Python 3",
   "language": "python",
   "name": "python3"
  },
  "language_info": {
   "codemirror_mode": {
    "name": "ipython",
    "version": 3
   },
   "file_extension": ".py",
   "mimetype": "text/x-python",
   "name": "python",
   "nbconvert_exporter": "python",
   "pygments_lexer": "ipython3",
   "version": "3.7.2"
  }
 },
 "nbformat": 4,
 "nbformat_minor": 2
}
